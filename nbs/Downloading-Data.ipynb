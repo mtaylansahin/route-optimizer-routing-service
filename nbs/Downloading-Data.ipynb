{
 "cells": [
  {
   "cell_type": "code",
   "execution_count": 8,
   "id": "b2a3e351",
   "metadata": {},
   "outputs": [],
   "source": [
    "import pathlib\n",
    "\n",
    "BASE_DIR = pathlib.Path().resolve().parent\n",
    "DATA_DIR = BASE_DIR / 'datasets'\n",
    "ZIP_DIR = DATA_DIR / 'zips'\n",
    "ZIP_DIR.mkdir(exist_ok=True, parents=True)\n",
    "\n",
    "TSPLIB_ZIP_PATH = ZIP_DIR / 'tsplib-dataset.tar.gz'"
   ]
  },
  {
   "cell_type": "code",
   "execution_count": 6,
   "id": "0ed0a608",
   "metadata": {},
   "outputs": [],
   "source": [
    "TSPLIB_ZIP_URL = 'http://comopt.ifi.uni-heidelberg.de/software/TSPLIB95/tsp/ALL_tsp.tar.gz'"
   ]
  },
  {
   "cell_type": "code",
   "execution_count": 7,
   "id": "24c68444",
   "metadata": {},
   "outputs": [
    {
     "name": "stdout",
     "output_type": "stream",
     "text": [
      "  % Total    % Received % Xferd  Average Speed   Time    Time     Time  Current\n",
      "                                 Dload  Upload   Total   Spent    Left  Speed\n",
      "100 1977k  100 1977k    0     0  36007      0  0:00:56  0:00:56 --:--:-- 34283  0     0  34213      0  0:00:59  0:00:25  0:00:34 28537\n"
     ]
    }
   ],
   "source": [
    "!curl $TSPLIB_ZIP_URL -o $TSPLIB_ZIP_PATH"
   ]
  },
  {
   "cell_type": "code",
   "execution_count": 10,
   "id": "ece64431",
   "metadata": {},
   "outputs": [],
   "source": [
    "import tarfile\n",
    "\n",
    "TSPLIB_FOLDER_PATH = DATA_DIR / 'folders' / 'tsplib_all'\n",
    "TSPLIB_FOLDER_PATH.mkdir(exist_ok=True, parents=True)\n",
    "\n",
    "file = tarfile.open(TSPLIB_ZIP_PATH)\n",
    "file.extractall(TSPLIB_FOLDER_PATH)\n",
    "file.close()"
   ]
  },
  {
   "cell_type": "code",
   "execution_count": 26,
   "id": "4f12b9b9",
   "metadata": {},
   "outputs": [],
   "source": [
    "import os\n",
    "import gzip\n",
    "import shutil\n",
    "\n",
    "OPTIMAL_TSV_PATH = DATA_DIR / 'folders' / 'tsp_optimal'\n",
    "PROBLEM_TSV_PATH = DATA_DIR / 'folders' / 'tsp_problem'\n",
    "\n",
    "OPTIMAL_TSV_PATH.mkdir(exist_ok=True, parents=True)\n",
    "PROBLEM_TSV_PATH.mkdir(exist_ok=True, parents=True)\n",
    "\n",
    "all_files = os.listdir(TSPLIB_FOLDER_PATH)\n",
    "\n",
    "for file in all_files:\n",
    "    file_name = file.split('.')[0]\n",
    "    if 'opt.tour' in file:\n",
    "        with gzip.open(TSPLIB_FOLDER_PATH / file, 'rb') as f_in:\n",
    "            with open(OPTIMAL_TSV_PATH / f'{file_name}_opt.tsp', 'wb') as f_out:\n",
    "                shutil.copyfileobj(f_in, f_out)\n",
    "    else:\n",
    "        with gzip.open(TSPLIB_FOLDER_PATH / file, 'rb') as f_in:\n",
    "            with open(PROBLEM_TSV_PATH / f'{file_name}.tsp', 'wb') as f_out:\n",
    "                shutil.copyfileobj(f_in, f_out)"
   ]
  },
  {
   "cell_type": "code",
   "execution_count": null,
   "id": "2fae10bd",
   "metadata": {},
   "outputs": [],
   "source": []
  }
 ],
 "metadata": {
  "kernelspec": {
   "display_name": "Python 3",
   "language": "python",
   "name": "python3"
  },
  "language_info": {
   "codemirror_mode": {
    "name": "ipython",
    "version": 3
   },
   "file_extension": ".py",
   "mimetype": "text/x-python",
   "name": "python",
   "nbconvert_exporter": "python",
   "pygments_lexer": "ipython3",
   "version": "3.6.13"
  }
 },
 "nbformat": 4,
 "nbformat_minor": 5
}
